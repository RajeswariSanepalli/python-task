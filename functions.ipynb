{
 "cells": [
  {
   "cell_type": "code",
   "execution_count": 18,
   "metadata": {},
   "outputs": [
    {
     "name": "stdout",
     "output_type": "stream",
     "text": [
      "enter number:8\n",
      "enter another number:9\n",
      "enter 1 for addition,2 for subtraction,3 for multiplication and 4 for division0\n",
      "The Number is   not defined\n"
     ]
    }
   ],
   "source": [
    "num1=int(input(\"enter number:\"))\n",
    "num2=int(input(\"enter another number:\"))\n",
    "num3=int(input(\"enter 1 for addition,2 for subtraction,3 for multiplication and 4 for division\"))\n",
    "def add():\n",
    "    sum=num1+num2\n",
    "    print(\"addition of two numbers is {}\".format(sum))\n",
    "def sub():\n",
    "    sub=num1-num2\n",
    "    print(\"addition of two numbers is {} \".format(sub))\n",
    "def mul():\n",
    "    mul=num1*num2\n",
    "    print(\"addition of two numbers is {}\".format(mul))\n",
    "def div():\n",
    "    div=num1/num2\n",
    "    print(\"addition of two numbers is  {} \".format(div))\n",
    "if(num3==1):\n",
    "    add()\n",
    "elif(num3==2):\n",
    "    sub()\n",
    "elif(num3==3):\n",
    "    mul()\n",
    "elif(num3==4):\n",
    "    div()\n",
    "else:\n",
    "    print(\"The Number is   not defined\")\n",
    "\n",
    "    \n",
    "    "
   ]
  },
  {
   "cell_type": "code",
   "execution_count": null,
   "metadata": {},
   "outputs": [],
   "source": []
  },
  {
   "cell_type": "code",
   "execution_count": null,
   "metadata": {},
   "outputs": [],
   "source": []
  }
 ],
 "metadata": {
  "kernelspec": {
   "display_name": "Python 3",
   "language": "python",
   "name": "python3"
  }
 },
 "nbformat": 4,
 "nbformat_minor": 4
}
