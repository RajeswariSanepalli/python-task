{
 "cells": [
  {
   "cell_type": "code",
   "execution_count": 1,
   "metadata": {},
   "outputs": [
    {
     "name": "stdout",
     "output_type": "stream",
     "text": [
      "enter number:678\n",
      "enter another number:89\n",
      "enter 1 for addition,2 for subtraction,3 for multiplication and 4 for division4\n",
      "addition of two numbers is  7.617977528089888 \n"
     ]
    }
   ],
   "source": [
    "#Ask 2 numbers from users and store it in num1 and num2\n",
    "#Ask user to press 1 for addition,2 for subtraction,3 for multiplication and 4 for division\n",
    "# create 4 seperate functions for each operation (i.e. addition,subtraction,multiplication and division)\n",
    "# based on number given by user,call that perticular function and print the output\n",
    "\n",
    "num1=int(input(\"enter number:\"))\n",
    "num2=int(input(\"enter another number:\"))\n",
    "num3=int(input(\"enter 1 for addition,2 for subtraction,3 for multiplication and 4 for division\"))\n",
    "def add():\n",
    "    sum=num1+num2\n",
    "    print(\"addition of two numbers is {}\".format(sum))\n",
    "def sub():\n",
    "    sub=num1-num2\n",
    "    print(\"addition of two numbers is {} \".format(sub))\n",
    "def mul():\n",
    "    mul=num1*num2\n",
    "    print(\"addition of two numbers is {}\".format(mul))\n",
    "def div():\n",
    "    div=num1/num2\n",
    "    print(\"addition of two numbers is  {} \".format(div))\n",
    "if(num3==1):\n",
    "    add()\n",
    "elif(num3==2):\n",
    "    sub()\n",
    "elif(num3==3):\n",
    "    mul()\n",
    "elif(num3==4):\n",
    "    div()\n",
    "else:\n",
    "    print(\"The Number is   not defined\")\n",
    "\n",
    "    \n",
    "    "
   ]
  }
 ],
 "metadata": {
  "kernelspec": {
   "display_name": "Python 3",
   "language": "python",
   "name": "python3"
  },
  "language_info": {
   "codemirror_mode": {
    "name": "ipython",
    "version": 3
   },
   "file_extension": ".py",
   "mimetype": "text/x-python",
   "name": "python",
   "nbconvert_exporter": "python",
   "pygments_lexer": "ipython3",
   "version": "3.8.3"
  }
 },
 "nbformat": 4,
 "nbformat_minor": 4
}
