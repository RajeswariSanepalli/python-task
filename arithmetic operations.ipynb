{
 "cells": [
  {
   "cell_type": "code",
   "execution_count": 1,
   "metadata": {},
   "outputs": [
    {
     "name": "stdout",
     "output_type": "stream",
     "text": [
      "enter the first number : 1\n",
      "enter the second number : 2\n",
      "press 1 for addition,2 for subtraction,3 for multiplication,4 for division:1\n",
      " addition of two numbers is 3 \n"
     ]
    }
   ],
   "source": [
    "num1 = int(input(\"enter the first number : \"))\n",
    "num2 = int(input(\"enter the second number : \"))\n",
    "num3 = int(input(\"press 1 for addition,2 for subtraction,3 for multiplication,4 for division:\"))\n",
    "\n",
    "if(num3==1):\n",
    "    a=num1+num2\n",
    "    print(\" addition of two numbers is {} \".format(a))\n",
    "elif(num3==2):\n",
    "    b=num1-num2\n",
    "    print(\" subtraction of two numbers is {} \" .format(b))\n",
    "elif(num3==3):\n",
    "    c=num1*num2\n",
    "    print(\" multiplication of two numbers is{}  \" .format(c))\n",
    "elif(num3==2):\n",
    "    d=num1/num2\n",
    "    print(\" division of two numbers is {} \".format(d))\n",
    "else:\n",
    "    print(\"the nmber is not defined\")\n"
   ]
  },
  {
   "cell_type": "code",
   "execution_count": 3,
   "metadata": {},
   "outputs": [
    {
     "name": "stdout",
     "output_type": "stream",
     "text": [
      "enter the first number : 23\n",
      "enter the second number : 12\n",
      "press 1 for addition,2 for subtraction,3 for multiplication,4 for division:2\n",
      " subtraction of two numbers is 11 \n"
     ]
    }
   ],
   "source": [
    "num1 = int(input(\"enter the first number : \"))\n",
    "num2 = int(input(\"enter the second number : \"))\n",
    "num3 = int(input(\"press 1 for addition,2 for subtraction,3 for multiplication,4 for division:\"))\n",
    "\n",
    "if(num3==1):\n",
    "    a=num1+num2\n",
    "    print(\" addition of two numbers is {} \".format(a))\n",
    "elif(num3==2):\n",
    "    b=num1-num2\n",
    "    print(\" subtraction of two numbers is {} \" .format(b))\n",
    "elif(num3==3):\n",
    "    c=num1*num2\n",
    "    print(\" multiplication of two numbers is{}  \" .format(c))\n",
    "elif(num3==2):\n",
    "    d=num1/num2\n",
    "    print(\" division of two numbers is {} \".format(d))\n",
    "else:\n",
    "    print(\"the nmber is not defined\")"
   ]
  },
  {
   "cell_type": "code",
   "execution_count": 5,
   "metadata": {},
   "outputs": [
    {
     "name": "stdout",
     "output_type": "stream",
     "text": [
      "enter the first number : 25\n",
      "enter the second number : 15\n",
      "press 1 for addition,2 for subtraction,3 for multiplication,4 for division:3\n",
      " multiplication of two numbers is 375  \n"
     ]
    }
   ],
   "source": [
    "num1 = int(input(\"enter the first number : \"))\n",
    "num2 = int(input(\"enter the second number : \"))\n",
    "num3 = int(input(\"press 1 for addition,2 for subtraction,3 for multiplication,4 for division:\"))\n",
    "\n",
    "if(num3==1):\n",
    "    a=num1+num2\n",
    "    print(\" addition of two numbers is {} \".format(a))\n",
    "elif(num3==2):\n",
    "    b=num1-num2\n",
    "    print(\" subtraction of two numbers is {} \" .format(b))\n",
    "elif(num3==3):\n",
    "    c=num1*num2\n",
    "    print(\" multiplication of two numbers is {}  \" .format(c))\n",
    "elif(num3==2):\n",
    "    d=num1/num2\n",
    "    print(\" division of two numbers is {} \".format(d))\n",
    "else:\n",
    "    print(\"the nmber is not defined\")"
   ]
  },
  {
   "cell_type": "code",
   "execution_count": 7,
   "metadata": {},
   "outputs": [
    {
     "name": "stdout",
     "output_type": "stream",
     "text": [
      "enter the first number : 30\n",
      "enter the second number : 10\n",
      "press 1 for addition,2 for subtraction,3 for multiplication,4 for division:4\n",
      " division of two numbers is 3.0 \n"
     ]
    }
   ],
   "source": [
    "num1 = int(input(\"enter the first number : \"))\n",
    "num2 = int(input(\"enter the second number : \"))\n",
    "num3 = int(input(\"press 1 for addition,2 for subtraction,3 for multiplication,4 for division:\"))\n",
    "\n",
    "if(num3==1):\n",
    "    a=num1+num2\n",
    "    print(\" addition of two numbers is {} \".format(a))\n",
    "elif(num3==2):\n",
    "    b=num1-num2\n",
    "    print(\" subtraction of two numbers is {} \" .format(b))\n",
    "elif(num3==3):\n",
    "    c=num1*num2\n",
    "    print(\" multiplication of two numbers is{}  \" .format(c))\n",
    "elif(num3==4):\n",
    "    d=num1/num2\n",
    "    print(\" division of two numbers is {} \".format(d))\n",
    "else:\n",
    "    print(\"the nmber is not defined\")\n",
    "    \n",
    "    "
   ]
  },
  {
   "cell_type": "code",
   "execution_count": 8,
   "metadata": {},
   "outputs": [
    {
     "name": "stdout",
     "output_type": "stream",
     "text": [
      "enter the first number : 23\n",
      "enter the second number : 45\n",
      "press 1 for addition,2 for subtraction,3 for multiplication,4 for division:7\n",
      "the nmber is not defined\n"
     ]
    }
   ],
   "source": [
    "num1 = int(input(\"enter the first number : \"))\n",
    "num2 = int(input(\"enter the second number : \"))\n",
    "num3 = int(input(\"press 1 for addition,2 for subtraction,3 for multiplication,4 for division:\"))\n",
    "\n",
    "if(num3==1):\n",
    "    a=num1+num2\n",
    "    print(\" addition of two numbers is {} \".format(a))\n",
    "elif(num3==2):\n",
    "    b=num1-num2\n",
    "    print(\" subtraction of two numbers is {} \" .format(b))\n",
    "elif(num3==3):\n",
    "    c=num1*num2\n",
    "    print(\" multiplication of two numbers is{}  \" .format(c))\n",
    "elif(num3==2):\n",
    "    d=num1/num2\n",
    "    print(\" division of two numbers is {} \".format(d))\n",
    "else:\n",
    "    print(\"the nmber is not defined\")"
   ]
  }
 ],
 "metadata": {
  "kernelspec": {
   "display_name": "Python 3",
   "language": "python",
   "name": "python3"
  },
  "language_info": {
   "codemirror_mode": {
    "name": "ipython",
    "version": 3
   },
   "file_extension": ".py",
   "mimetype": "text/x-python",
   "name": "python",
   "nbconvert_exporter": "python",
   "pygments_lexer": "ipython3",
   "version": "3.8.3"
  }
 },
 "nbformat": 4,
 "nbformat_minor": 4
}
