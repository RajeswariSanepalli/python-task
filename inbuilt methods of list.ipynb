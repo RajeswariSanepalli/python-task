{
 "cells": [
  {
   "cell_type": "markdown",
   "metadata": {},
   "source": [
    "# inbuilt methods of list\n",
    "\n"
   ]
  },
  {
   "cell_type": "code",
   "execution_count": 2,
   "metadata": {},
   "outputs": [
    {
     "name": "stdout",
     "output_type": "stream",
     "text": [
      "[1, 2, 3, 7, 8, 4, 4, 8, 9, 7, 9]\n"
     ]
    }
   ],
   "source": [
    "\n",
    "#remove() method removes the first occurence of the element with the specified value\n",
    "#syntax=list.remove(element)\n",
    "list1=[1,2,3,7,8,9,4,4,8,9,7,9]\n",
    "list1.remove(9)\n",
    "print(list1)"
   ]
  },
  {
   "cell_type": "code",
   "execution_count": 6,
   "metadata": {},
   "outputs": [
    {
     "name": "stdout",
     "output_type": "stream",
     "text": [
      "[1, 76, 'true', 6, 8, 9, 'a', 'b']\n"
     ]
    }
   ],
   "source": [
    "list2=['a',1,76,'true',6,8,9,'a','b']\n",
    "list2.remove('a')\n",
    "print(list2)"
   ]
  },
  {
   "cell_type": "code",
   "execution_count": 8,
   "metadata": {},
   "outputs": [
    {
     "name": "stdout",
     "output_type": "stream",
     "text": [
      "5\n"
     ]
    }
   ],
   "source": [
    "#count() method returns the number of elements with specified value\n",
    "#syntax=list.count(element)\n",
    "l1=[1,4,7,9,0,7,8,5,7,8,9,9,7,7]\n",
    "print(l1.count(7))"
   ]
  },
  {
   "cell_type": "code",
   "execution_count": 9,
   "metadata": {},
   "outputs": [
    {
     "name": "stdout",
     "output_type": "stream",
     "text": [
      "3\n"
     ]
    }
   ],
   "source": [
    "l2=['a','b','c','d','a','e','a']\n",
    "print(l2.count('a'))"
   ]
  },
  {
   "cell_type": "code",
   "execution_count": 16,
   "metadata": {},
   "outputs": [
    {
     "name": "stdout",
     "output_type": "stream",
     "text": [
      "[1, 7, 8, 9, 0]\n",
      "[]\n"
     ]
    }
   ],
   "source": [
    "#clear() method removes all the elements from the list\n",
    "#syntax:list.clear()\n",
    "l4=[1,7,8,9,0]\n",
    "print(l4)\n",
    "l4.clear()\n",
    "print(l4)"
   ]
  },
  {
   "cell_type": "code",
   "execution_count": 20,
   "metadata": {
    "scrolled": true
   },
   "outputs": [
    {
     "name": "stdout",
     "output_type": "stream",
     "text": [
      "['a', 'b', 'c']\n",
      "[]\n"
     ]
    }
   ],
   "source": [
    "l1=['a','b','c']\n",
    "print(l1)\n",
    "l1.clear()\n",
    "print(l1)"
   ]
  },
  {
   "cell_type": "code",
   "execution_count": 24,
   "metadata": {},
   "outputs": [
    {
     "name": "stdout",
     "output_type": "stream",
     "text": [
      "['apple', 'banana', 'fruit']\n"
     ]
    }
   ],
   "source": [
    "#sort() sort the list\n",
    "#syntax:list.sort(reverse=True|False,key=myFunc)\n",
    "#reverse:optional true will sortt list in descending,default is false\n",
    "#key:optional.to specify the sorting criteria\n",
    "l1=['fruit','apple','banana']\n",
    "l1.sort()\n",
    "print(l1)"
   ]
  },
  {
   "cell_type": "code",
   "execution_count": 25,
   "metadata": {},
   "outputs": [
    {
     "name": "stdout",
     "output_type": "stream",
     "text": [
      "[1, 2, 3, 4, 5, 5, 7, 8, 9]\n"
     ]
    }
   ],
   "source": [
    "l2=[3,4,2,1,5,7,8,9,5]\n",
    "l2.sort()\n",
    "print(l2)"
   ]
  },
  {
   "cell_type": "code",
   "execution_count": 27,
   "metadata": {},
   "outputs": [
    {
     "name": "stdout",
     "output_type": "stream",
     "text": [
      "['fruit', 'banana', 'apple']\n",
      "[9, 8, 7, 5, 5, 4, 3, 2, 1]\n"
     ]
    }
   ],
   "source": [
    "#descending\n",
    "l1.sort(reverse=True)\n",
    "print(l1)\n",
    "l2.sort(reverse=True)\n",
    "print(l2)"
   ]
  },
  {
   "cell_type": "code",
   "execution_count": 30,
   "metadata": {},
   "outputs": [
    {
     "name": "stdout",
     "output_type": "stream",
     "text": [
      "[9, 8, 7, 6, 5, 4, 3, 2, 1]\n"
     ]
    }
   ],
   "source": [
    "#reverse() reverse the order of the list\n",
    "#syntax=list.reverse()\n",
    "l1=[1,2,3,4,5,6,7,8,9]\n",
    "l1.reverse()\n",
    "print(l1)"
   ]
  },
  {
   "cell_type": "code",
   "execution_count": 32,
   "metadata": {},
   "outputs": [
    {
     "name": "stdout",
     "output_type": "stream",
     "text": [
      "['f', 'e', 'd', 'c', 'b', 'a']\n"
     ]
    }
   ],
   "source": [
    "l2=['a','b','c','d','e','f']\n",
    "l2.reverse()\n",
    "print(l2)"
   ]
  },
  {
   "cell_type": "code",
   "execution_count": null,
   "metadata": {},
   "outputs": [],
   "source": []
  }
 ],
 "metadata": {
  "kernelspec": {
   "display_name": "Python 3",
   "language": "python",
   "name": "python3"
  },
  "language_info": {
   "codemirror_mode": {
    "name": "ipython",
    "version": 3
   },
   "file_extension": ".py",
   "mimetype": "text/x-python",
   "name": "python",
   "nbconvert_exporter": "python",
   "pygments_lexer": "ipython3",
   "version": "3.8.3"
  }
 },
 "nbformat": 4,
 "nbformat_minor": 4
}
