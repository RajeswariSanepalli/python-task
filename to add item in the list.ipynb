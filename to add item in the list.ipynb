{
 "cells": [
  {
   "cell_type": "markdown",
   "metadata": {},
   "source": [
    "1.to add item 70 after 60 in the listl1=[10,20,[30,40,[50,60],80],90,100]"
   ]
  },
  {
   "cell_type": "code",
   "execution_count": 17,
   "metadata": {},
   "outputs": [
    {
     "name": "stdout",
     "output_type": "stream",
     "text": [
      "[10, 20, [30, 40, [50, 60], 80], 90, 100]\n",
      "[50, 60]\n",
      "[50, 60, 70]\n",
      "[10, 20, [30, 40, [50, 60, 70], 80], 90, 100]\n"
     ]
    }
   ],
   "source": [
    "l1=[10,20,[30,40,[50,60],80],90,100]\n",
    "print(l1)\n",
    "l2_copy=l1[2][2]\n",
    "print(l2_copy)\n",
    "l2_copy.append(70)\n",
    "print(l2_copy)\n",
    "      \n",
    "print(l1)"
   ]
  },
  {
   "cell_type": "markdown",
   "metadata": {},
   "source": [
    "2.to add sublist[7,8] after 6 in the list list1=[1,2[3,4,5,6],9]"
   ]
  },
  {
   "cell_type": "code",
   "execution_count": 37,
   "metadata": {},
   "outputs": [
    {
     "name": "stdout",
     "output_type": "stream",
     "text": [
      "[1, 2, [3, 4, 5, 6], 9]\n",
      "[7, 8]\n",
      "[1, 2, [3, 4, 5, 6], 9]\n",
      "[3, 4, 5, 6]\n",
      "[3, 4, 5, 6, [7, 8]]\n",
      "[1, 2, [3, 4, 5, 6, [7, 8]], 9]\n"
     ]
    }
   ],
   "source": [
    " list1=[1,2,[3,4,5,6],9]\n",
    " print(list1)\n",
    "#let l3=[7,8]\n",
    "l3=[7,8]\n",
    "print(l3)\n",
    "\n",
    "print(list1)\n",
    "list2_copy=list1[2]\n",
    "print(list2_copy)\n",
    "list2_copy.append(l3)\n",
    "print(list2_copy)\n",
    "print(list1)"
   ]
  },
  {
   "cell_type": "code",
   "execution_count": null,
   "metadata": {},
   "outputs": [],
   "source": []
  }
 ],
 "metadata": {
  "kernelspec": {
   "display_name": "Python 3",
   "language": "python",
   "name": "python3"
  },
  "language_info": {
   "codemirror_mode": {
    "name": "ipython",
    "version": 3
   },
   "file_extension": ".py",
   "mimetype": "text/x-python",
   "name": "python",
   "nbconvert_exporter": "python",
   "pygments_lexer": "ipython3",
   "version": "3.8.3"
  }
 },
 "nbformat": 4,
 "nbformat_minor": 4
}
