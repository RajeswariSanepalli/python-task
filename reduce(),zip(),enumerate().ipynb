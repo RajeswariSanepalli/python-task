{
 "cells": [
  {
   "cell_type": "markdown",
   "metadata": {},
   "source": [
    "# reduce(),zip(),enumerate()"
   ]
  },
  {
   "cell_type": "markdown",
   "metadata": {},
   "source": [
    "reduce() is very useful function for performing some computation on a list and returning the result.it applies a rolling computation to sequential pairs of values in the list\n",
    "\n",
    "syntax---->reduce(fun,seq)"
   ]
  },
  {
   "cell_type": "raw",
   "metadata": {},
   "source": [
    "# addition of numbers in the list"
   ]
  },
  {
   "cell_type": "code",
   "execution_count": 1,
   "metadata": {},
   "outputs": [
    {
     "name": "stdout",
     "output_type": "stream",
     "text": [
      "25\n"
     ]
    }
   ],
   "source": [
    "#using for loop\n",
    "sum=0\n",
    "list=[1,3,5,7,9]\n",
    "for num in list:\n",
    "    sum=sum+num\n",
    "\n",
    "print (sum)"
   ]
  },
  {
   "cell_type": "code",
   "execution_count": 2,
   "metadata": {},
   "outputs": [
    {
     "name": "stdout",
     "output_type": "stream",
     "text": [
      "25\n"
     ]
    }
   ],
   "source": [
    "#using reduce()\n",
    "from  functools import reduce\n",
    "total=print(reduce((lambda x,y:x+y),[1,3,5,7,9]))"
   ]
  },
  {
   "cell_type": "code",
   "execution_count": 4,
   "metadata": {},
   "outputs": [
    {
     "name": "stdout",
     "output_type": "stream",
     "text": [
      "3840\n"
     ]
    }
   ],
   "source": [
    "#product of even numbers\n",
    "from  functools import reduce\n",
    "product=print(reduce((lambda x,y :x*y),range(2,11,2)))"
   ]
  },
  {
   "cell_type": "markdown",
   "metadata": {},
   "source": [
    "# zip() function returns a zip object,which is an iterator of tuples where the first item in each passed iterator is paired together,and then the second item in each passed iterator are paired together etc.\n",
    " \n",
    " if the passed iterators have different lengths,the iterator with the least items decides the length of the new iterator\n",
    " \n",
    " syntax---->zip(iterator 1,iterator2,....)"
   ]
  },
  {
   "cell_type": "code",
   "execution_count": 4,
   "metadata": {},
   "outputs": [
    {
     "name": "stdout",
     "output_type": "stream",
     "text": [
      "(('India', 'delhi'), ('ap', 'amaravthi'), ('karantaka', 'bangalore'))\n"
     ]
    }
   ],
   "source": [
    "a=(\"India\",\"ap\",\"karantaka\")\n",
    "b=(\"delhi\",\"amaravthi\",\"bangalore\")\n",
    "x=zip(a,b)\n",
    "print(tuple(x)) #use tuple() function to display a readable version"
   ]
  },
  {
   "cell_type": "code",
   "execution_count": 5,
   "metadata": {},
   "outputs": [
    {
     "name": "stdout",
     "output_type": "stream",
     "text": [
      "(('odd', '1', 'dived by 2 gives rem 1'), ('even', '2', 'div by 2 =0 '), ('prime', '3', 'only div by 1 & itself'))\n",
      "(('1', 'odd', 'dived by 2 gives rem 1'), ('2', 'even', 'div by 2 =0 '), ('3', 'prime', 'only div by 1 & itself'))\n"
     ]
    }
   ],
   "source": [
    "a=(\"odd\",\"even\",\"prime\")\n",
    "b=(\"1\",\"2\",\"3\",\"4\")\n",
    "c=(\"dived by 2 gives rem 1\",\"div by 2 =0 \",\"only div by 1 & itself\")\n",
    "x=zip(a,b,c)\n",
    "print(tuple(x))\n",
    "y=zip(b,a,c)\n",
    "print(tuple(y))"
   ]
  },
  {
   "cell_type": "code",
   "execution_count": 6,
   "metadata": {},
   "outputs": [
    {
     "name": "stdout",
     "output_type": "stream",
     "text": [
      "(('java',), ('python',), ('c',))\n"
     ]
    }
   ],
   "source": [
    "a=(\"java\",\"python\",\"c\")\n",
    "print(tuple(zip(a)))"
   ]
  },
  {
   "cell_type": "raw",
   "metadata": {},
   "source": [
    "enumerate() function takes a collection and returns it as an enumerate object\n",
    "it adds a counter as the key of enumerate object\n",
    "syntax---->enumerate(iterable,start)\n",
    "iterable-iterable object\n",
    "start--a number(default 0)"
   ]
  },
  {
   "cell_type": "code",
   "execution_count": 7,
   "metadata": {},
   "outputs": [
    {
     "name": "stdout",
     "output_type": "stream",
     "text": [
      "{0: 'c', 1: 'c++', 2: 'java', 3: 'python'}\n"
     ]
    }
   ],
   "source": [
    "a=(\"c\",\"c++\",\"java\",\"python\")\n",
    "x=enumerate(a)\n",
    "print(dict(x))"
   ]
  },
  {
   "cell_type": "code",
   "execution_count": 8,
   "metadata": {},
   "outputs": [
    {
     "name": "stdout",
     "output_type": "stream",
     "text": [
      "((1, 'mon'), (2, 'tue'), (3, 'wed'), (4, 'thru'), (5, 'fri'), (6, 'sat'), (7, 'sun'))\n"
     ]
    }
   ],
   "source": [
    "days=[\"mon\",\"tue\",\"wed\",\"thru\",\"fri\",\"sat\",\"sun\"]\n",
    "days_count=enumerate(days,1)\n",
    "print(tuple(days_count))"
   ]
  },
  {
   "cell_type": "code",
   "execution_count": null,
   "metadata": {},
   "outputs": [],
   "source": []
  }
 ],
 "metadata": {
  "kernelspec": {
   "display_name": "Python 3",
   "language": "python",
   "name": "python3"
  },
  "language_info": {
   "codemirror_mode": {
    "name": "ipython",
    "version": 3
   },
   "file_extension": ".py",
   "mimetype": "text/x-python",
   "name": "python",
   "nbconvert_exporter": "python",
   "pygments_lexer": "ipython3",
   "version": "3.8.3"
  }
 },
 "nbformat": 4,
 "nbformat_minor": 4
}
