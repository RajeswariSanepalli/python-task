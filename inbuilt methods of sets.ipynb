{
 "cells": [
  {
   "cell_type": "markdown",
   "metadata": {},
   "source": [
    "in built methods of sets"
   ]
  },
  {
   "cell_type": "code",
   "execution_count": 17,
   "metadata": {},
   "outputs": [
    {
     "name": "stdout",
     "output_type": "stream",
     "text": [
      "{1, 2, 3, 4, 5, 'a', 'b'}\n",
      "{'e', 'c', 'a', 'd', 'b'}\n",
      "{1, 2, 3, 4, 5}\n",
      "{'e', 'd', 'c'}\n"
     ]
    }
   ],
   "source": [
    "# difference() returns a set containing the difference between two or more sets---->syntax:set.difference(set)\n",
    "a={1,2,3,4,5,\"a\",\"b\"}\n",
    "b={\"a\",\"b\",\"c\",\"d\",\"e\"}\n",
    "print(a)\n",
    "print(b)\n",
    "print(a.difference(b))\n",
    "print(b.difference(a))"
   ]
  },
  {
   "cell_type": "code",
   "execution_count": 4,
   "metadata": {},
   "outputs": [
    {
     "name": "stdout",
     "output_type": "stream",
     "text": [
      "{'python', 'ai', 'ds', 'ml'}\n",
      "{'java', 'c'}\n"
     ]
    }
   ],
   "source": [
    "set1={\"python\",\"ml\",\"ds\",\"ai\"}\n",
    "set2={\"java\",\"c\"}\n",
    "print(set1.difference(set2))\n",
    "print(set2.difference(set1))"
   ]
  },
  {
   "cell_type": "code",
   "execution_count": 14,
   "metadata": {},
   "outputs": [
    {
     "name": "stdout",
     "output_type": "stream",
     "text": [
      "{1, 2, 3, 4, 5}\n",
      "{'e', 'c', 'a', 'd', 'b'}\n"
     ]
    }
   ],
   "source": [
    "#difference_update() removes the item that exist in both sets\n",
    "#syntax :set.difference_update(set)\n",
    "a.difference_update(b)\n",
    "print(a)\n",
    "print(b)"
   ]
  },
  {
   "cell_type": "code",
   "execution_count": 18,
   "metadata": {},
   "outputs": [
    {
     "name": "stdout",
     "output_type": "stream",
     "text": [
      "{'e', 'c', 'd'}\n"
     ]
    }
   ],
   "source": [
    "b.difference_update(a)\n",
    "print(b)"
   ]
  },
  {
   "cell_type": "code",
   "execution_count": 19,
   "metadata": {},
   "outputs": [
    {
     "name": "stdout",
     "output_type": "stream",
     "text": [
      "{'ai', 'ds', 'ml', 'python'}\n"
     ]
    }
   ],
   "source": [
    "set1.difference_update(set2)\n",
    "print(set1)"
   ]
  },
  {
   "cell_type": "code",
   "execution_count": 21,
   "metadata": {},
   "outputs": [
    {
     "name": "stdout",
     "output_type": "stream",
     "text": [
      "{'c', 'java'}\n"
     ]
    }
   ],
   "source": [
    "set2.difference_update(set1)\n",
    "print(set2)"
   ]
  },
  {
   "cell_type": "code",
   "execution_count": 22,
   "metadata": {},
   "outputs": [
    {
     "name": "stdout",
     "output_type": "stream",
     "text": [
      "set()\n"
     ]
    }
   ],
   "source": [
    "#intersection_update() removes the items in this set that are not present in other\n",
    "a.intersection_update(b)\n",
    "print(a)"
   ]
  },
  {
   "cell_type": "code",
   "execution_count": 36,
   "metadata": {},
   "outputs": [
    {
     "name": "stdout",
     "output_type": "stream",
     "text": [
      "{1, 2, 3, 4, 5, 6, 7, 8}\n",
      "{5, 6, 7, 8, 9}\n",
      "{8, 5, 6, 7}\n",
      "{8, 5, 6, 7}\n",
      "{8, 5, 6, 7}\n"
     ]
    }
   ],
   "source": [
    "x={1,2,3,4,5,6,7,8}\n",
    "y={5,6,7,8,9}\n",
    "print(x)\n",
    "print(y)\n",
    "print(x.intersection(y))\n",
    "x.intersection_update(y)\n",
    "y.intersection_update(x)\n",
    "print(x)\n",
    "print(y)"
   ]
  },
  {
   "cell_type": "code",
   "execution_count": 26,
   "metadata": {},
   "outputs": [
    {
     "name": "stdout",
     "output_type": "stream",
     "text": [
      "False\n",
      "True\n"
     ]
    }
   ],
   "source": [
    "#issubset returns true if all items in the  sets exist in the specified set \n",
    "x={1,2,3,4,5,6,7,8}\n",
    "y={5,6,7,8}\n",
    "print(x.issubset(y))\n",
    "print(y.issubset(x))\n"
   ]
  },
  {
   "cell_type": "code",
   "execution_count": 27,
   "metadata": {},
   "outputs": [
    {
     "name": "stdout",
     "output_type": "stream",
     "text": [
      "True\n",
      "False\n"
     ]
    }
   ],
   "source": [
    "#issuperset returns true if all elements of y present in x\n",
    "x={1,2,3,4,5,6,7,8}\n",
    "y={5,6,7,8}\n",
    "print(x.issuperset(y))\n",
    "print(y.issuperset(x))\n"
   ]
  },
  {
   "cell_type": "code",
   "execution_count": 54,
   "metadata": {},
   "outputs": [
    {
     "name": "stdout",
     "output_type": "stream",
     "text": [
      "{1, 2, 3, 4, 9}\n",
      "{1, 2, 3, 4}\n",
      "{1, 2, 3, 4, 9}\n"
     ]
    }
   ],
   "source": [
    "#symmetric_difference() returns a set that contains all items from both sets,except items that are present in both\n",
    "x={1,2,3,4,5,6,7,8}\n",
    "y={5,6,7,8,9}\n",
    "print(x.symmetric_difference(y))\n",
    "print(x.difference(y))\n",
    "print(y.symmetric_difference(x))"
   ]
  },
  {
   "cell_type": "code",
   "execution_count": 55,
   "metadata": {},
   "outputs": [
    {
     "name": "stdout",
     "output_type": "stream",
     "text": [
      "{1, 2, 3, 4, 9}\n",
      "{5, 6, 7, 8, 9}\n",
      "{1, 2, 3, 4, 5, 6, 7, 8}\n"
     ]
    }
   ],
   "source": [
    "#symmetric_difference_update() removes the items that are present in both sets,and inserts that is not present in both sets\n",
    "x={1,2,3,4,5,6,7,8}\n",
    "y={5,6,7,8,9}\n",
    "x.symmetric_difference_update(y)\n",
    "print(x)\n",
    "print(y)\n",
    "y.symmetric_difference_update(x)\n",
    "print(y)\n"
   ]
  },
  {
   "cell_type": "code",
   "execution_count": 56,
   "metadata": {},
   "outputs": [],
   "source": [
    "#update:adds 2 sets\n",
    "x={1,2,3,4,5,6,7,8}\n",
    "y={5,6,7,8,9}\n",
    "x.update(y)"
   ]
  },
  {
   "cell_type": "code",
   "execution_count": 57,
   "metadata": {},
   "outputs": [
    {
     "name": "stdout",
     "output_type": "stream",
     "text": [
      "{1, 2, 3, 4, 5, 6, 7, 8, 9}\n"
     ]
    }
   ],
   "source": [
    "print(x)"
   ]
  },
  {
   "cell_type": "code",
   "execution_count": null,
   "metadata": {},
   "outputs": [],
   "source": []
  }
 ],
 "metadata": {
  "kernelspec": {
   "display_name": "Python 3",
   "language": "python",
   "name": "python3"
  },
  "language_info": {
   "codemirror_mode": {
    "name": "ipython",
    "version": 3
   },
   "file_extension": ".py",
   "mimetype": "text/x-python",
   "name": "python",
   "nbconvert_exporter": "python",
   "pygments_lexer": "ipython3",
   "version": "3.8.3"
  }
 },
 "nbformat": 4,
 "nbformat_minor": 4
}
