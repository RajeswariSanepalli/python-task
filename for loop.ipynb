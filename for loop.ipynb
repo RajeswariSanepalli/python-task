{
 "cells": [
  {
   "cell_type": "code",
   "execution_count": 1,
   "metadata": {},
   "outputs": [
    {
     "name": "stdout",
     "output_type": "stream",
     "text": [
      "1\n",
      "2\n",
      "3\n",
      "4.4\n",
      "5.5\n",
      "True\n",
      "False\n",
      "Maths\n",
      "Python\n"
     ]
    }
   ],
   "source": [
    "tup = (1,2,3,4.4,5.5,True,False,\"Maths\",\"Python\")\n",
    "for ele in tup:\n",
    "    print(ele)"
   ]
  },
  {
   "cell_type": "code",
   "execution_count": 2,
   "metadata": {},
   "outputs": [
    {
     "name": "stdout",
     "output_type": "stream",
     "text": [
      "1\n",
      "2\n",
      "c\n",
      "3\n",
      "ai\n",
      "java\n",
      "a\n",
      "ds\n",
      "b\n"
     ]
    }
   ],
   "source": [
    "set={'a','b','c',1,2,3,\"java\",\"ai\",\"ds\"}\n",
    "for elem in set:\n",
    "    print(elem)"
   ]
  },
  {
   "cell_type": "code",
   "execution_count": 3,
   "metadata": {},
   "outputs": [
    {
     "name": "stdout",
     "output_type": "stream",
     "text": [
      "{'object': {'phone': 'oneplus', 'model': '8t', 'cost': 600000}, 'features': {'rarecamera': '15px', 'backcamera': '24px', 'battery': '2400map', 'storage': '64gb'}}\n",
      "{'object': {'phone': 'oneplus', 'model': '8t', 'cost': 600000}, 'features': {'rarecamera': '15px', 'backcamera': '24px', 'battery': '2400map', 'storage': '64gb'}}\n"
     ]
    }
   ],
   "source": [
    "dict={ \"object\":{\n",
    "    \"phone\":\"oneplus\",\n",
    "    \"model\":\"8t\",\n",
    "    \"cost\":600000 },\n",
    "    \"features\":{\n",
    "        \"rarecamera\":\"15px\",\n",
    "        \"backcamera\":\"24px\",\n",
    "        \"battery\":\"2400map\",\n",
    "        \"storage\":\"64gb\"\n",
    "    }\n",
    "}\n",
    "for  dic in dict:\n",
    "    print(dict)\n"
   ]
  }
 ],
 "metadata": {
  "kernelspec": {
   "display_name": "Python 3",
   "language": "python",
   "name": "python3"
  },
  "language_info": {
   "codemirror_mode": {
    "name": "ipython",
    "version": 3
   },
   "file_extension": ".py",
   "mimetype": "text/x-python",
   "name": "python",
   "nbconvert_exporter": "python",
   "pygments_lexer": "ipython3",
   "version": "3.8.3"
  }
 },
 "nbformat": 4,
 "nbformat_minor": 4
}
